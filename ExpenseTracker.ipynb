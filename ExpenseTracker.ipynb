{
 "cells": [
  {
   "cell_type": "markdown",
   "metadata": {},
   "source": [
    "# <u>Kitty Assignment</u>\n",
    "\n",
    "###### This program is a basic Kitty application that can keep track of shared expenses.\n",
    "\n",
    "- Consists of three classes: Individuals, Event and Fund.\n",
    "- Individuals class consists of each person in the group of friends. Only prompts for the instance of name\n",
    "- Event class class consists of the event the friends attended. Requires the instances details and participants\n",
    "- Event class contains the methods \"activity\" (to check if the payee is a participant, if so, adds them to the \"complete\" list). Otherwise prints to the effect that they have not signed up for the event.\n",
    "- Event class contains the method \"validate\" (called by \"activity\" to check the data entered is valid)\n",
    "- Event class contains the method \"reconcilliation_acc\" (to find the total cost, then divided by the number of participants to get how much each person owes. Prints to that effect. Adds participants who owe money to a list and participants who are owed money to a separate list. Calls the liability method.\n",
    "- The liability method within the Event class details who owes who money and prints to that effect\n",
    "- The fund class prompts for 4 instances, consisting of info, event, cost and payee."
   ]
  },
  {
   "cell_type": "code",
   "execution_count": null,
   "metadata": {},
   "outputs": [],
   "source": [
    "class Individuals:\n",
    "    input = 0\n",
    "    def __init__(self, name):\n",
    "        self.name = name\n",
    "           \n",
    "            \n",
    "class Event:\n",
    "    def __init__(self, details, participants):\n",
    "        self.details = details\n",
    "        self.participants = participants\n",
    "        self.complete = []\n",
    "    \n",
    "    def activity(self, info, cost, payee):\n",
    "        self.validate(info, cost, payee)\n",
    "        if payee in self.participants:      # If Payee is a participant of the event, then append self.complete list\n",
    "            self.complete.append(Fund(self, info, cost, payee))\n",
    "        else:\n",
    "            print(\"This person is not attending this event\")\n",
    "            \n",
    "    def validate(self, info, cost, payee):\n",
    "        if not isinstance(info, str):       # Ensuring against invalid data\n",
    "            print(\"Information is not a string\")\n",
    "            return\n",
    "        if not isinstance(cost,(int, float)):\n",
    "            print(\"Cost should be a number\")\n",
    "            return\n",
    "        if cost <= 0:\n",
    "            print(\"Amount must be a positive number\")\n",
    "            return\n",
    "        else:\n",
    "            return\n",
    "    \n",
    "    def reconciliation_acc(self):\n",
    "        participants = self.participants\n",
    "        sum = 0\n",
    "        for s in self.complete:           # Looping to each participants cost to find the overall cost stored as \"sum\"\n",
    "            sum += s.cost\n",
    "        avg = sum/len(participants)       # Finding out how much each person should owe\n",
    "        print(f\"Total: €{sum:.2f}, that is €{avg:.2f} each\")\n",
    "        self.owed = []\n",
    "        self.is_owed = []\n",
    "        print()\n",
    "        for prsn in self.participants:   \n",
    "            prsn.equity = prsn.input - avg  # If they paid over/under what they should have, store in appropriate list\n",
    "            if prsn.equity < 0:            \n",
    "                self.owed.append(prsn)\n",
    "            else:\n",
    "                self.is_owed.append(prsn)\n",
    "            print(f\"{prsn.name:s} has a balance of: €{prsn.equity:.2f}\")\n",
    "        print()\n",
    "        self.liability()\n",
    "        \n",
    "    def liability(self):\n",
    "        for y in self.owed:\n",
    "            for n in self.is_owed:          # Nested for loops to calculate who pays who\n",
    "                if y.equity <= -n.equity:\n",
    "                    suprt = n.equity\n",
    "                    y.equity += n.equity\n",
    "                    n.equity = 0\n",
    "                else:\n",
    "                    suprt = -y.equity\n",
    "                    n.equity += y.equity\n",
    "                    y.equity = 0\n",
    "                if suprt > 0:\n",
    "                    print(f\"{y.name:s} pays {n.name:s} €{suprt:.2f}\")    \n",
    "                 \n",
    "                \n",
    "class Fund:\n",
    "    def __init__(self, info, event, cost, payee):\n",
    "        self.info = info\n",
    "        self.event = event\n",
    "        self.cost = cost\n",
    "        self.payee = payee\n",
    "        self.payee.input += cost    # Adding the cost and storing in the self.payee.input variable"
   ]
  },
  {
   "cell_type": "markdown",
   "metadata": {},
   "source": [
    "#### Sample 1"
   ]
  },
  {
   "cell_type": "code",
   "execution_count": null,
   "metadata": {},
   "outputs": [],
   "source": [
    "a = Individuals(\"Annie\")\n",
    "b = Individuals(\"Bill\")\n",
    "s = Individuals(\"Sally\")\n",
    "\n",
    "concert = Event(\"Red Hot Chilli Peppers\", [a, b, s])\n",
    "\n",
    "concert.activity(\"Tickets\", 180, a)\n",
    "concert.activity(\"Dinner\", 75, s)\n",
    "concert.activity(\"Drinks\", 19, b)\n",
    "concert.activity(\"Taxi\", 16, b)\n",
    "\n",
    "concert.reconciliation_acc()"
   ]
  },
  {
   "cell_type": "markdown",
   "metadata": {},
   "source": [
    "#### Sample 2"
   ]
  },
  {
   "cell_type": "code",
   "execution_count": null,
   "metadata": {},
   "outputs": [],
   "source": [
    "c = Individuals(\"Cathy\")\n",
    "r = Individuals(\"Robin\")\n",
    "j = Individuals(\"Jen\")\n",
    "\n",
    "cinema = Event(\"Star Wars\", [c, r, j])\n",
    "\n",
    "cinema.activity(\"Tickets\", 33, c)\n",
    "cinema.activity(\"Dinner\", 60, r)\n",
    "cinema.activity(\"Drinks\", 21, j)\n",
    "cinema.activity(\"Taxi\", 27, j)\n",
    "\n",
    "cinema.reconciliation_acc()"
   ]
  },
  {
   "cell_type": "markdown",
   "metadata": {},
   "source": [
    "#### Sample 3"
   ]
  },
  {
   "cell_type": "code",
   "execution_count": null,
   "metadata": {},
   "outputs": [],
   "source": [
    "n = Individuals(\"Nora\")\n",
    "e = Individuals(\"Eva\")\n",
    "f = Individuals(\"Frankie\")\n",
    "h = Individuals(\"Harry\")\n",
    "\n",
    "weekend = Event(\"Break\", [n, e, f, h])\n",
    "\n",
    "weekend.activity(\"Dinner\", 110, n)\n",
    "weekend.activity(\"Lunch\", 60, e)\n",
    "weekend.activity(\"Dinner\", 125, f)\n",
    "weekend.activity(\"Lunch\", 70, h)\n",
    "\n",
    "weekend.reconciliation_acc()"
   ]
  }
 ],
 "metadata": {
  "kernelspec": {
   "display_name": "Python 3",
   "language": "python",
   "name": "python3"
  },
  "language_info": {
   "codemirror_mode": {
    "name": "ipython",
    "version": 3
   },
   "file_extension": ".py",
   "mimetype": "text/x-python",
   "name": "python",
   "nbconvert_exporter": "python",
   "pygments_lexer": "ipython3",
   "version": "3.8.3"
  }
 },
 "nbformat": 4,
 "nbformat_minor": 4
}
